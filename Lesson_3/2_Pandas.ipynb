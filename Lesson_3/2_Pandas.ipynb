{
 "cells": [
  {
   "cell_type": "markdown",
   "metadata": {},
   "source": [
    "# Анализ данных с Pandas\n",
    "## Часть 2\n",
    "Автор: Хужина Вария   \n",
    "Репозиторий курса: https://github.com/VariyaKh/ML_21school"
   ]
  },
  {
   "cell_type": "markdown",
   "metadata": {},
   "source": [
    "Считаем данные из файла"
   ]
  },
  {
   "cell_type": "code",
   "execution_count": 1,
   "metadata": {
    "collapsed": true
   },
   "outputs": [],
   "source": [
    "import pandas as pd"
   ]
  },
  {
   "cell_type": "code",
   "execution_count": 2,
   "metadata": {
    "collapsed": true
   },
   "outputs": [],
   "source": [
    "data = pd.read_csv(\"data/who_suicide_statistics.csv\", sep=',')"
   ]
  },
  {
   "cell_type": "code",
   "execution_count": 3,
   "metadata": {},
   "outputs": [
    {
     "data": {
      "text/html": [
       "<div>\n",
       "<style scoped>\n",
       "    .dataframe tbody tr th:only-of-type {\n",
       "        vertical-align: middle;\n",
       "    }\n",
       "\n",
       "    .dataframe tbody tr th {\n",
       "        vertical-align: top;\n",
       "    }\n",
       "\n",
       "    .dataframe thead th {\n",
       "        text-align: right;\n",
       "    }\n",
       "</style>\n",
       "<table border=\"1\" class=\"dataframe\">\n",
       "  <thead>\n",
       "    <tr style=\"text-align: right;\">\n",
       "      <th></th>\n",
       "      <th>country</th>\n",
       "      <th>year</th>\n",
       "      <th>sex</th>\n",
       "      <th>age</th>\n",
       "      <th>suicides_no</th>\n",
       "      <th>population</th>\n",
       "    </tr>\n",
       "  </thead>\n",
       "  <tbody>\n",
       "    <tr>\n",
       "      <th>0</th>\n",
       "      <td>Albania</td>\n",
       "      <td>1985</td>\n",
       "      <td>female</td>\n",
       "      <td>15-24 years</td>\n",
       "      <td>NaN</td>\n",
       "      <td>277900.0</td>\n",
       "    </tr>\n",
       "    <tr>\n",
       "      <th>1</th>\n",
       "      <td>Albania</td>\n",
       "      <td>1985</td>\n",
       "      <td>female</td>\n",
       "      <td>25-34 years</td>\n",
       "      <td>NaN</td>\n",
       "      <td>246800.0</td>\n",
       "    </tr>\n",
       "    <tr>\n",
       "      <th>2</th>\n",
       "      <td>Albania</td>\n",
       "      <td>1985</td>\n",
       "      <td>female</td>\n",
       "      <td>35-54 years</td>\n",
       "      <td>NaN</td>\n",
       "      <td>267500.0</td>\n",
       "    </tr>\n",
       "    <tr>\n",
       "      <th>3</th>\n",
       "      <td>Albania</td>\n",
       "      <td>1985</td>\n",
       "      <td>female</td>\n",
       "      <td>5-14 years</td>\n",
       "      <td>NaN</td>\n",
       "      <td>298300.0</td>\n",
       "    </tr>\n",
       "    <tr>\n",
       "      <th>4</th>\n",
       "      <td>Albania</td>\n",
       "      <td>1985</td>\n",
       "      <td>female</td>\n",
       "      <td>55-74 years</td>\n",
       "      <td>NaN</td>\n",
       "      <td>138700.0</td>\n",
       "    </tr>\n",
       "  </tbody>\n",
       "</table>\n",
       "</div>"
      ],
      "text/plain": [
       "   country  year     sex          age  suicides_no  population\n",
       "0  Albania  1985  female  15-24 years          NaN    277900.0\n",
       "1  Albania  1985  female  25-34 years          NaN    246800.0\n",
       "2  Albania  1985  female  35-54 years          NaN    267500.0\n",
       "3  Albania  1985  female   5-14 years          NaN    298300.0\n",
       "4  Albania  1985  female  55-74 years          NaN    138700.0"
      ]
     },
     "execution_count": 3,
     "metadata": {},
     "output_type": "execute_result"
    }
   ],
   "source": [
    "data.head()"
   ]
  },
  {
   "cell_type": "markdown",
   "metadata": {},
   "source": [
    "## Статистики по признакам"
   ]
  },
  {
   "cell_type": "markdown",
   "metadata": {},
   "source": [
    "Количество данных по странам"
   ]
  },
  {
   "cell_type": "code",
   "execution_count": 4,
   "metadata": {},
   "outputs": [
    {
     "data": {
      "text/plain": [
       "Iceland                           456\n",
       "Hungary                           456\n",
       "Austria                           456\n",
       "United Kingdom                    456\n",
       "Israel                            456\n",
       "Sweden                            456\n",
       "Romania                           456\n",
       "Mauritius                         456\n",
       "United States of America          456\n",
       "Netherlands                       456\n",
       "Finland                           444\n",
       "Mexico                            444\n",
       "Belgium                           444\n",
       "Norway                            444\n",
       "Denmark                           444\n",
       "Japan                             444\n",
       "Hong Kong SAR                     444\n",
       "Spain                             444\n",
       "Cuba                              444\n",
       "Australia                         444\n",
       "Malta                             444\n",
       "Luxembourg                        444\n",
       "Ecuador                           444\n",
       "Republic of Moldova               444\n",
       "Greece                            444\n",
       "Chile                             444\n",
       "Italy                             444\n",
       "Poland                            444\n",
       "Singapore                         444\n",
       "Puerto Rico                       444\n",
       "                                 ... \n",
       "Reunion                           168\n",
       "Netherlands Antilles              168\n",
       "Morocco                           156\n",
       "San Marino                        156\n",
       "Kiribati                          144\n",
       "Fiji                              132\n",
       "Bosnia and Herzegovina            132\n",
       "Honduras                          120\n",
       "Maldives                          120\n",
       "Montenegro                        120\n",
       "Occupied Palestinian Territory    108\n",
       "Turkey                             84\n",
       "Haiti                              84\n",
       "United Arab Emirates               72\n",
       "Jordan                             60\n",
       "Saint Pierre and Miquelon          60\n",
       "Falkland Islands (Malvinas)        60\n",
       "Bolivia                            48\n",
       "Mayotte                            48\n",
       "Sao Tome and Principe              36\n",
       "Iran (Islamic Rep of)              36\n",
       "Oman                               36\n",
       "Monaco                             24\n",
       "Saudi Arabia                       24\n",
       "Mongolia                           24\n",
       "Tunisia                            24\n",
       "Cabo Verde                         12\n",
       "Iraq                               12\n",
       "Macau                              12\n",
       "Zimbabwe                           12\n",
       "Name: country, Length: 141, dtype: int64"
      ]
     },
     "execution_count": 4,
     "metadata": {},
     "output_type": "execute_result"
    }
   ],
   "source": [
    "data['country'].value_counts()"
   ]
  },
  {
   "cell_type": "markdown",
   "metadata": {},
   "source": [
    "Общее колиество мужчин и женщин"
   ]
  },
  {
   "cell_type": "code",
   "execution_count": 5,
   "metadata": {},
   "outputs": [
    {
     "data": {
      "text/plain": [
       "male      21888\n",
       "female    21888\n",
       "Name: sex, dtype: int64"
      ]
     },
     "execution_count": 5,
     "metadata": {},
     "output_type": "execute_result"
    }
   ],
   "source": [
    "data['sex'].value_counts()"
   ]
  },
  {
   "cell_type": "markdown",
   "metadata": {},
   "source": [
    "Какие в таблице есть года"
   ]
  },
  {
   "cell_type": "code",
   "execution_count": 6,
   "metadata": {},
   "outputs": [
    {
     "data": {
      "text/plain": [
       "[1979,\n",
       " 1980,\n",
       " 1981,\n",
       " 1982,\n",
       " 1983,\n",
       " 1984,\n",
       " 1985,\n",
       " 1986,\n",
       " 1987,\n",
       " 1988,\n",
       " 1989,\n",
       " 1990,\n",
       " 1991,\n",
       " 1992,\n",
       " 1993,\n",
       " 1994,\n",
       " 1995,\n",
       " 1996,\n",
       " 1997,\n",
       " 1998,\n",
       " 1999,\n",
       " 2000,\n",
       " 2001,\n",
       " 2002,\n",
       " 2003,\n",
       " 2004,\n",
       " 2005,\n",
       " 2006,\n",
       " 2007,\n",
       " 2008,\n",
       " 2009,\n",
       " 2010,\n",
       " 2011,\n",
       " 2012,\n",
       " 2013,\n",
       " 2014,\n",
       " 2015,\n",
       " 2016]"
      ]
     },
     "execution_count": 6,
     "metadata": {},
     "output_type": "execute_result"
    }
   ],
   "source": [
    "sorted(data['year'].unique())"
   ]
  },
  {
   "cell_type": "markdown",
   "metadata": {},
   "source": [
    "Количество незаполненных данных"
   ]
  },
  {
   "cell_type": "code",
   "execution_count": 7,
   "metadata": {},
   "outputs": [
    {
     "data": {
      "text/plain": [
       "2256"
      ]
     },
     "execution_count": 7,
     "metadata": {},
     "output_type": "execute_result"
    }
   ],
   "source": [
    "data['suicides_no'].isnull().sum()"
   ]
  },
  {
   "cell_type": "markdown",
   "metadata": {},
   "source": [
    "Доля незаполненных данных ко всем"
   ]
  },
  {
   "cell_type": "code",
   "execution_count": 8,
   "metadata": {},
   "outputs": [
    {
     "data": {
      "text/plain": [
       "0.05433526011560694"
      ]
     },
     "execution_count": 8,
     "metadata": {},
     "output_type": "execute_result"
    }
   ],
   "source": [
    "data['suicides_no'].isnull().sum() / data['suicides_no'].count()"
   ]
  },
  {
   "cell_type": "markdown",
   "metadata": {},
   "source": [
    "Средняя численность населения РФ"
   ]
  },
  {
   "cell_type": "code",
   "execution_count": 9,
   "metadata": {},
   "outputs": [
    {
     "data": {
      "text/plain": [
       "11269312.083333334"
      ]
     },
     "execution_count": 9,
     "metadata": {},
     "output_type": "execute_result"
    }
   ],
   "source": [
    "data[data['country'] == 'Russian Federation']['population'].mean()"
   ]
  },
  {
   "cell_type": "markdown",
   "metadata": {},
   "source": [
    "Медиана"
   ]
  },
  {
   "cell_type": "code",
   "execution_count": 10,
   "metadata": {},
   "outputs": [
    {
     "data": {
      "text/plain": [
       "10858638.0"
      ]
     },
     "execution_count": 10,
     "metadata": {},
     "output_type": "execute_result"
    }
   ],
   "source": [
    "data[data['country'] == 'Russian Federation']['population'].median()"
   ]
  },
  {
   "cell_type": "markdown",
   "metadata": {},
   "source": [
    "## GroupBy\n",
    "groupby(признак1)[признак2] метод, позволяющий группировать данные по признаку1 и получать по нему аггрегированные значения признака2, например среднее, сумма, медиана, количество и т д"
   ]
  },
  {
   "cell_type": "markdown",
   "metadata": {},
   "source": [
    "Посмотрим количество суицидов в России по годам. Для этого сначала отберем данные только для России, сгруппируем по годам и посчитаем сумму по признаку suicides_no"
   ]
  },
  {
   "cell_type": "code",
   "execution_count": 11,
   "metadata": {},
   "outputs": [
    {
     "data": {
      "text/plain": [
       "year\n",
       "1980    47877.0\n",
       "1981    47557.0\n",
       "1982    48663.0\n",
       "1983        0.0\n",
       "1984        0.0\n",
       "1985    44517.0\n",
       "1986    33229.0\n",
       "1987    33842.0\n",
       "1988    35565.0\n",
       "1989    37921.0\n",
       "1990    39028.0\n",
       "1991    39281.0\n",
       "1992    45923.0\n",
       "1993    55846.0\n",
       "1994    61420.0\n",
       "1995    60548.0\n",
       "1996    57511.0\n",
       "1997    54746.0\n",
       "1998    51518.0\n",
       "1999    56974.0\n",
       "2000    56619.0\n",
       "2001    56958.0\n",
       "2002    55024.0\n",
       "2003    51445.0\n",
       "2004    49096.0\n",
       "2005    45802.0\n",
       "2006    42614.0\n",
       "2007    41149.0\n",
       "2008    38211.0\n",
       "2009    37408.0\n",
       "2010    33356.0\n",
       "2011    31038.0\n",
       "2012    29643.0\n",
       "2013    28690.0\n",
       "2014    26541.0\n",
       "2015    25432.0\n",
       "Name: suicides_no, dtype: float64"
      ]
     },
     "execution_count": 11,
     "metadata": {},
     "output_type": "execute_result"
    }
   ],
   "source": [
    "data[data['country'] == 'Russian Federation'].groupby('year')['suicides_no'].sum()"
   ]
  },
  {
   "cell_type": "markdown",
   "metadata": {},
   "source": [
    "Если нам нужно определить год, когда было больше всего суицидов, то можно вызвать метод idxmax()"
   ]
  },
  {
   "cell_type": "code",
   "execution_count": 12,
   "metadata": {},
   "outputs": [
    {
     "data": {
      "text/plain": [
       "1994"
      ]
     },
     "execution_count": 12,
     "metadata": {},
     "output_type": "execute_result"
    }
   ],
   "source": [
    "data[data['country'] == 'Russian Federation'].groupby('year')['suicides_no'].sum().idxmax()"
   ]
  },
  {
   "cell_type": "markdown",
   "metadata": {},
   "source": [
    "Ничего удивительного! ("
   ]
  },
  {
   "cell_type": "code",
   "execution_count": 13,
   "metadata": {},
   "outputs": [
    {
     "data": {
      "text/plain": [
       "pandas.core.groupby.DataFrameGroupBy"
      ]
     },
     "execution_count": 13,
     "metadata": {},
     "output_type": "execute_result"
    }
   ],
   "source": [
    "type(data[data['country'] == 'Russian Federation'].groupby('year'))"
   ]
  },
  {
   "cell_type": "markdown",
   "metadata": {},
   "source": [
    "GroupBy это самостоятельный объект, у которого также есть методы. Пример:"
   ]
  },
  {
   "cell_type": "code",
   "execution_count": 14,
   "metadata": {},
   "outputs": [
    {
     "data": {
      "text/plain": [
       "<pandas.core.groupby.DataFrameGroupBy object at 0x7fac2abd0da0>"
      ]
     },
     "execution_count": 14,
     "metadata": {},
     "output_type": "execute_result"
    }
   ],
   "source": [
    "data[data['country'] == 'Russian Federation'].groupby('year')"
   ]
  },
  {
   "cell_type": "code",
   "execution_count": 15,
   "metadata": {},
   "outputs": [
    {
     "data": {
      "text/plain": [
       "{1979: Int64Index([ 1056,  1057,  1058,  1059,  1060,  1061,  1062,  1063,  1064,\n",
       "              1065,\n",
       "             ...\n",
       "             43142, 43143, 43144, 43145, 43146, 43147, 43148, 43149, 43150,\n",
       "             43151],\n",
       "            dtype='int64', length=672),\n",
       " 1980: Int64Index([ 1068,  1069,  1070,  1071,  1072,  1073,  1074,  1075,  1076,\n",
       "              1077,\n",
       "             ...\n",
       "             43526, 43527, 43528, 43529, 43530, 43531, 43532, 43533, 43534,\n",
       "             43535],\n",
       "            dtype='int64', length=804),\n",
       " 1981: Int64Index([ 1080,  1081,  1082,  1083,  1084,  1085,  1086,  1087,  1088,\n",
       "              1089,\n",
       "             ...\n",
       "             43538, 43539, 43540, 43541, 43542, 43543, 43544, 43545, 43546,\n",
       "             43547],\n",
       "            dtype='int64', length=996),\n",
       " 1982: Int64Index([ 1092,  1093,  1094,  1095,  1096,  1097,  1098,  1099,  1100,\n",
       "              1101,\n",
       "             ...\n",
       "             43550, 43551, 43552, 43553, 43554, 43555, 43556, 43557, 43558,\n",
       "             43559],\n",
       "            dtype='int64', length=936),\n",
       " 1983: Int64Index([  372,   373,   374,   375,   376,   377,   378,   379,   380,\n",
       "               381,\n",
       "             ...\n",
       "             43190, 43191, 43192, 43193, 43194, 43195, 43196, 43197, 43198,\n",
       "             43199],\n",
       "            dtype='int64', length=948),\n",
       " 1984: Int64Index([  384,   385,   386,   387,   388,   389,   390,   391,   392,\n",
       "               393,\n",
       "             ...\n",
       "             42434, 42435, 42436, 42437, 42438, 42439, 42440, 42441, 42442,\n",
       "             42443],\n",
       "            dtype='int64', length=840),\n",
       " 1985: Int64Index([    0,     1,     2,     3,     4,     5,     6,     7,     8,\n",
       "                 9,\n",
       "             ...\n",
       "             43202, 43203, 43204, 43205, 43206, 43207, 43208, 43209, 43210,\n",
       "             43211],\n",
       "            dtype='int64', length=1080),\n",
       " 1986: Int64Index([   12,    13,    14,    15,    16,    17,    18,    19,    20,\n",
       "                21,\n",
       "             ...\n",
       "             43214, 43215, 43216, 43217, 43218, 43219, 43220, 43221, 43222,\n",
       "             43223],\n",
       "            dtype='int64', length=1080),\n",
       " 1987: Int64Index([   24,    25,    26,    27,    28,    29,    30,    31,    32,\n",
       "                33,\n",
       "             ...\n",
       "             43226, 43227, 43228, 43229, 43230, 43231, 43232, 43233, 43234,\n",
       "             43235],\n",
       "            dtype='int64', length=1128),\n",
       " 1988: Int64Index([   36,    37,    38,    39,    40,    41,    42,    43,    44,\n",
       "                45,\n",
       "             ...\n",
       "             43238, 43239, 43240, 43241, 43242, 43243, 43244, 43245, 43246,\n",
       "             43247],\n",
       "            dtype='int64', length=1056),\n",
       " 1989: Int64Index([   48,    49,    50,    51,    52,    53,    54,    55,    56,\n",
       "                57,\n",
       "             ...\n",
       "             43250, 43251, 43252, 43253, 43254, 43255, 43256, 43257, 43258,\n",
       "             43259],\n",
       "            dtype='int64', length=1056),\n",
       " 1990: Int64Index([   60,    61,    62,    63,    64,    65,    66,    67,    68,\n",
       "                69,\n",
       "             ...\n",
       "             43766, 43767, 43768, 43769, 43770, 43771, 43772, 43773, 43774,\n",
       "             43775],\n",
       "            dtype='int64', length=1128),\n",
       " 1991: Int64Index([   72,    73,    74,    75,    76,    77,    78,    79,    80,\n",
       "                81,\n",
       "             ...\n",
       "             42890, 42891, 42892, 42893, 42894, 42895, 42896, 42897, 42898,\n",
       "             42899],\n",
       "            dtype='int64', length=1092),\n",
       " 1992: Int64Index([   84,    85,    86,    87,    88,    89,    90,    91,    92,\n",
       "                93,\n",
       "             ...\n",
       "             43274, 43275, 43276, 43277, 43278, 43279, 43280, 43281, 43282,\n",
       "             43283],\n",
       "            dtype='int64', length=1068),\n",
       " 1993: Int64Index([   96,    97,    98,    99,   100,   101,   102,   103,   104,\n",
       "               105,\n",
       "             ...\n",
       "             43286, 43287, 43288, 43289, 43290, 43291, 43292, 43293, 43294,\n",
       "             43295],\n",
       "            dtype='int64', length=1056),\n",
       " 1994: Int64Index([  108,   109,   110,   111,   112,   113,   114,   115,   116,\n",
       "               117,\n",
       "             ...\n",
       "             43298, 43299, 43300, 43301, 43302, 43303, 43304, 43305, 43306,\n",
       "             43307],\n",
       "            dtype='int64', length=1116),\n",
       " 1995: Int64Index([  120,   121,   122,   123,   124,   125,   126,   127,   128,\n",
       "               129,\n",
       "             ...\n",
       "             42938, 42939, 42940, 42941, 42942, 42943, 42944, 42945, 42946,\n",
       "             42947],\n",
       "            dtype='int64', length=1152),\n",
       " 1996: Int64Index([  132,   133,   134,   135,   136,   137,   138,   139,   140,\n",
       "               141,\n",
       "             ...\n",
       "             43310, 43311, 43312, 43313, 43314, 43315, 43316, 43317, 43318,\n",
       "             43319],\n",
       "            dtype='int64', length=1152),\n",
       " 1997: Int64Index([  144,   145,   146,   147,   148,   149,   150,   151,   152,\n",
       "               153,\n",
       "             ...\n",
       "             43562, 43563, 43564, 43565, 43566, 43567, 43568, 43569, 43570,\n",
       "             43571],\n",
       "            dtype='int64', length=1188),\n",
       " 1998: Int64Index([  156,   157,   158,   159,   160,   161,   162,   163,   164,\n",
       "               165,\n",
       "             ...\n",
       "             43574, 43575, 43576, 43577, 43578, 43579, 43580, 43581, 43582,\n",
       "             43583],\n",
       "            dtype='int64', length=1200),\n",
       " 1999: Int64Index([  168,   169,   170,   171,   172,   173,   174,   175,   176,\n",
       "               177,\n",
       "             ...\n",
       "             43586, 43587, 43588, 43589, 43590, 43591, 43592, 43593, 43594,\n",
       "             43595],\n",
       "            dtype='int64', length=1236),\n",
       " 2000: Int64Index([  180,   181,   182,   183,   184,   185,   186,   187,   188,\n",
       "               189,\n",
       "             ...\n",
       "             43598, 43599, 43600, 43601, 43602, 43603, 43604, 43605, 43606,\n",
       "             43607],\n",
       "            dtype='int64', length=1344),\n",
       " 2001: Int64Index([  192,   193,   194,   195,   196,   197,   198,   199,   200,\n",
       "               201,\n",
       "             ...\n",
       "             43610, 43611, 43612, 43613, 43614, 43615, 43616, 43617, 43618,\n",
       "             43619],\n",
       "            dtype='int64', length=1404),\n",
       " 2002: Int64Index([  204,   205,   206,   207,   208,   209,   210,   211,   212,\n",
       "               213,\n",
       "             ...\n",
       "             43622, 43623, 43624, 43625, 43626, 43627, 43628, 43629, 43630,\n",
       "             43631],\n",
       "            dtype='int64', length=1416),\n",
       " 2003: Int64Index([  216,   217,   218,   219,   220,   221,   222,   223,   224,\n",
       "               225,\n",
       "             ...\n",
       "             43634, 43635, 43636, 43637, 43638, 43639, 43640, 43641, 43642,\n",
       "             43643],\n",
       "            dtype='int64', length=1392),\n",
       " 2004: Int64Index([  228,   229,   230,   231,   232,   233,   234,   235,   236,\n",
       "               237,\n",
       "             ...\n",
       "             43646, 43647, 43648, 43649, 43650, 43651, 43652, 43653, 43654,\n",
       "             43655],\n",
       "            dtype='int64', length=1380),\n",
       " 2005: Int64Index([  240,   241,   242,   243,   244,   245,   246,   247,   248,\n",
       "               249,\n",
       "             ...\n",
       "             43658, 43659, 43660, 43661, 43662, 43663, 43664, 43665, 43666,\n",
       "             43667],\n",
       "            dtype='int64', length=1380),\n",
       " 2006: Int64Index([  252,   253,   254,   255,   256,   257,   258,   259,   260,\n",
       "               261,\n",
       "             ...\n",
       "             43670, 43671, 43672, 43673, 43674, 43675, 43676, 43677, 43678,\n",
       "             43679],\n",
       "            dtype='int64', length=1356),\n",
       " 2007: Int64Index([  264,   265,   266,   267,   268,   269,   270,   271,   272,\n",
       "               273,\n",
       "             ...\n",
       "             43682, 43683, 43684, 43685, 43686, 43687, 43688, 43689, 43690,\n",
       "             43691],\n",
       "            dtype='int64', length=1320),\n",
       " 2008: Int64Index([  276,   277,   278,   279,   280,   281,   282,   283,   284,\n",
       "               285,\n",
       "             ...\n",
       "             43694, 43695, 43696, 43697, 43698, 43699, 43700, 43701, 43702,\n",
       "             43703],\n",
       "            dtype='int64', length=1404),\n",
       " 2009: Int64Index([  288,   289,   290,   291,   292,   293,   294,   295,   296,\n",
       "               297,\n",
       "             ...\n",
       "             43706, 43707, 43708, 43709, 43710, 43711, 43712, 43713, 43714,\n",
       "             43715],\n",
       "            dtype='int64', length=1452),\n",
       " 2010: Int64Index([  300,   301,   302,   303,   304,   305,   306,   307,   308,\n",
       "               309,\n",
       "             ...\n",
       "             43718, 43719, 43720, 43721, 43722, 43723, 43724, 43725, 43726,\n",
       "             43727],\n",
       "            dtype='int64', length=1404),\n",
       " 2011: Int64Index([  312,   313,   314,   315,   316,   317,   318,   319,   320,\n",
       "               321,\n",
       "             ...\n",
       "             43730, 43731, 43732, 43733, 43734, 43735, 43736, 43737, 43738,\n",
       "             43739],\n",
       "            dtype='int64', length=1380),\n",
       " 2012: Int64Index([  324,   325,   326,   327,   328,   329,   330,   331,   332,\n",
       "               333,\n",
       "             ...\n",
       "             43742, 43743, 43744, 43745, 43746, 43747, 43748, 43749, 43750,\n",
       "             43751],\n",
       "            dtype='int64', length=1332),\n",
       " 2013: Int64Index([  336,   337,   338,   339,   340,   341,   342,   343,   344,\n",
       "               345,\n",
       "             ...\n",
       "             43514, 43515, 43516, 43517, 43518, 43519, 43520, 43521, 43522,\n",
       "             43523],\n",
       "            dtype='int64', length=1320),\n",
       " 2014: Int64Index([  348,   349,   350,   351,   352,   353,   354,   355,   356,\n",
       "               357,\n",
       "             ...\n",
       "             43130, 43131, 43132, 43133, 43134, 43135, 43136, 43137, 43138,\n",
       "             43139],\n",
       "            dtype='int64', length=1248),\n",
       " 2015: Int64Index([  360,   361,   362,   363,   364,   365,   366,   367,   368,\n",
       "               369,\n",
       "             ...\n",
       "             43754, 43755, 43756, 43757, 43758, 43759, 43760, 43761, 43762,\n",
       "             43763],\n",
       "            dtype='int64', length=960),\n",
       " 2016: Int64Index([  708,   709,   710,   711,   712,   713,   714,   715,   716,\n",
       "               717,\n",
       "             ...\n",
       "             42362, 42363, 42364, 42365, 42366, 42367, 42368, 42369, 42370,\n",
       "             42371],\n",
       "            dtype='int64', length=300)}"
      ]
     },
     "execution_count": 15,
     "metadata": {},
     "output_type": "execute_result"
    }
   ],
   "source": [
    "data.groupby('year').groups"
   ]
  },
  {
   "cell_type": "markdown",
   "metadata": {},
   "source": [
    "Множество примеров использования groupby вы можете найти в [документации](http://pandas.pydata.org/pandas-docs/stable/groupby.html?highlight=groupby)"
   ]
  }
 ],
 "metadata": {
  "kernelspec": {
   "display_name": "Python 3",
   "language": "python",
   "name": "python3"
  },
  "language_info": {
   "codemirror_mode": {
    "name": "ipython",
    "version": 3
   },
   "file_extension": ".py",
   "mimetype": "text/x-python",
   "name": "python",
   "nbconvert_exporter": "python",
   "pygments_lexer": "ipython3",
   "version": "3.6.3"
  }
 },
 "nbformat": 4,
 "nbformat_minor": 2
}

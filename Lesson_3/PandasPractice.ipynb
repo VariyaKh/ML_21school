{
 "cells": [
  {
   "cell_type": "markdown",
   "metadata": {},
   "source": [
    "# Практическое задание\n",
    "Автор: Хужина Вария   \n",
    "Репозиторий курса: https://github.com/VariyaKh/ML_21school"
   ]
  },
  {
   "cell_type": "markdown",
   "metadata": {},
   "source": [
    "1. Выберете любые данные из коллекции [kaggle](https://www.kaggle.com/datasets)\n",
    "2. Скачайте данные (для этого требуется регистрация на сайте)\n",
    "3. Проделайте все описанные в уроке действия (представление в pandas DataFrame, визуализация, предобработка)\n",
    "4. Попробуйте поставить задачу классификации или регрессии и решить ее с помощью kNN. Чтобы вам было проще при поиске данных посмотрите описание на сайте, попробуйте сразу понять подойдут ли данные для задачи обучения с учителем.  \n",
    "\n",
    "Если вы испытваете сложности, то можете посмотреть решения других людей на вкладке Kernels на странице с данными."
   ]
  },
  {
   "cell_type": "code",
   "execution_count": 2,
   "metadata": {
    "collapsed": true
   },
   "outputs": [],
   "source": [
    "import pandas as pd\n",
    "import seaborn as sns\n",
    "import matplotlib.pyplot as plt\n",
    "%matplotlib inline\n",
    "\n",
    "# ....."
   ]
  },
  {
   "cell_type": "code",
   "execution_count": null,
   "metadata": {
    "collapsed": true
   },
   "outputs": [],
   "source": []
  }
 ],
 "metadata": {
  "kernelspec": {
   "display_name": "Python 3",
   "language": "python",
   "name": "python3"
  },
  "language_info": {
   "codemirror_mode": {
    "name": "ipython",
    "version": 3
   },
   "file_extension": ".py",
   "mimetype": "text/x-python",
   "name": "python",
   "nbconvert_exporter": "python",
   "pygments_lexer": "ipython3",
   "version": "3.6.3"
  }
 },
 "nbformat": 4,
 "nbformat_minor": 2
}
